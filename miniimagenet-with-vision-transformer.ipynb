{
 "cells": [
  {
   "cell_type": "code",
   "execution_count": 1,
   "id": "a071e243",
   "metadata": {
    "_cell_guid": "b1076dfc-b9ad-4769-8c92-a6c4dae69d19",
    "_uuid": "8f2839f25d086af736a60e9eeb907d3b93b6e0e5",
    "execution": {
     "iopub.execute_input": "2024-01-02T18:07:32.832643Z",
     "iopub.status.busy": "2024-01-02T18:07:32.832356Z",
     "iopub.status.idle": "2024-01-02T18:07:38.437080Z",
     "shell.execute_reply": "2024-01-02T18:07:38.436169Z"
    },
    "papermill": {
     "duration": 5.6169,
     "end_time": "2024-01-02T18:07:38.439574",
     "exception": false,
     "start_time": "2024-01-02T18:07:32.822674",
     "status": "completed"
    },
    "tags": []
   },
   "outputs": [],
   "source": [
    "# This Python 3 environment comes with many helpful analytics libraries installed\n",
    "# It is defined by the kaggle/python Docker image: https://github.com/kaggle/docker-python\n",
    "# For example, here's several helpful packages to load\n",
    "\n",
    "import numpy as np # linear algebra\n",
    "import pandas as pd # data processing, CSV file I/O (e.g. pd.read_csv)\n",
    "\n",
    "# Input data files are available in the read-only \"../input/\" directory\n",
    "# For example, running this (by clicking run or pressing Shift+Enter) will list all files under the input directory\n",
    "\n",
    "import os\n",
    "for dirname, _, filenames in os.walk('/kaggle/input'):\n",
    "    for filename in filenames:\n",
    "        os.path.join(dirname, filename)\n",
    "\n",
    "# You can write up to 20GB to the current directory (/kaggle/working/) that gets preserved as output when you create a version using \"Save & Run All\" \n",
    "# You can also write temporary files to /kaggle/temp/, but they won't be saved outside of the current session"
   ]
  },
  {
   "cell_type": "code",
   "execution_count": 2,
   "id": "aac27d3c",
   "metadata": {
    "execution": {
     "iopub.execute_input": "2024-01-02T18:07:38.458201Z",
     "iopub.status.busy": "2024-01-02T18:07:38.457797Z",
     "iopub.status.idle": "2024-01-02T18:07:39.456106Z",
     "shell.execute_reply": "2024-01-02T18:07:39.455350Z"
    },
    "papermill": {
     "duration": 1.010082,
     "end_time": "2024-01-02T18:07:39.458644",
     "exception": false,
     "start_time": "2024-01-02T18:07:38.448562",
     "status": "completed"
    },
    "tags": []
   },
   "outputs": [],
   "source": [
    "import warnings\n",
    "warnings.filterwarnings(\"ignore\") \n",
    "\n",
    "import os\n",
    "import shutil\n",
    "\n",
    "from sklearn.model_selection import train_test_split\n",
    "import matplotlib.pyplot as plt"
   ]
  },
  {
   "cell_type": "code",
   "execution_count": 3,
   "id": "792b8e74",
   "metadata": {
    "execution": {
     "iopub.execute_input": "2024-01-02T18:07:39.475959Z",
     "iopub.status.busy": "2024-01-02T18:07:39.475629Z",
     "iopub.status.idle": "2024-01-02T18:07:44.746730Z",
     "shell.execute_reply": "2024-01-02T18:07:44.745926Z"
    },
    "papermill": {
     "duration": 5.28227,
     "end_time": "2024-01-02T18:07:44.749102",
     "exception": false,
     "start_time": "2024-01-02T18:07:39.466832",
     "status": "completed"
    },
    "tags": []
   },
   "outputs": [],
   "source": [
    "import torch\n",
    "import torch.nn as nn\n",
    "import torch.optim as optim\n",
    "from torch.utils.data import DataLoader\n",
    "from torchvision import transforms, datasets\n",
    "\n",
    "from torchvision.models import resnet18, vgg16\n",
    "from torchvision.transforms import transforms\n",
    "from torch.nn import Linear, CrossEntropyLoss\n",
    "import optuna\n",
    "from tqdm import tqdm"
   ]
  },
  {
   "cell_type": "code",
   "execution_count": 4,
   "id": "25d2f0d7",
   "metadata": {
    "execution": {
     "iopub.execute_input": "2024-01-02T18:07:44.766177Z",
     "iopub.status.busy": "2024-01-02T18:07:44.765794Z",
     "iopub.status.idle": "2024-01-02T18:07:44.774078Z",
     "shell.execute_reply": "2024-01-02T18:07:44.773218Z"
    },
    "papermill": {
     "duration": 0.018746,
     "end_time": "2024-01-02T18:07:44.775869",
     "exception": false,
     "start_time": "2024-01-02T18:07:44.757123",
     "status": "completed"
    },
    "tags": []
   },
   "outputs": [
    {
     "data": {
      "text/plain": [
       "64"
      ]
     },
     "execution_count": 4,
     "metadata": {},
     "output_type": "execute_result"
    }
   ],
   "source": [
    "train_path = '/kaggle/input/miniimagenet/train/'\n",
    "output_path = '/kaggle/working/miniimagenet/'\n",
    "\n",
    "categories = os.listdir(train_path)\n",
    "len(categories)"
   ]
  },
  {
   "cell_type": "code",
   "execution_count": 5,
   "id": "75d245a0",
   "metadata": {
    "execution": {
     "iopub.execute_input": "2024-01-02T18:07:44.792578Z",
     "iopub.status.busy": "2024-01-02T18:07:44.792298Z",
     "iopub.status.idle": "2024-01-02T18:09:39.870607Z",
     "shell.execute_reply": "2024-01-02T18:09:39.869552Z"
    },
    "papermill": {
     "duration": 115.089503,
     "end_time": "2024-01-02T18:09:39.873134",
     "exception": false,
     "start_time": "2024-01-02T18:07:44.783631",
     "status": "completed"
    },
    "tags": []
   },
   "outputs": [],
   "source": [
    "for category in categories:\n",
    "    category_path = os.path.join(train_path, category)\n",
    "    images = os.listdir(category_path)\n",
    "\n",
    "    train, rest = train_test_split(images, test_size=0.2, random_state=0)\n",
    "    val, test = train_test_split(rest, test_size=0.5, random_state=0)\n",
    "\n",
    "    os.makedirs(os.path.join(output_path, 'train', category), exist_ok=True)\n",
    "    os.makedirs(os.path.join(output_path, 'val', category), exist_ok=True)\n",
    "    os.makedirs(os.path.join(output_path, 'test', category), exist_ok=True)\n",
    "\n",
    "    for img in train:\n",
    "        shutil.copy(os.path.join(category_path, img), os.path.join(output_path, 'train', category, img))\n",
    "    for img in val:\n",
    "        shutil.copy(os.path.join(category_path, img), os.path.join(output_path, 'val', category, img))\n",
    "    for img in test:\n",
    "        shutil.copy(os.path.join(category_path, img), os.path.join(output_path, 'test', category, img))"
   ]
  },
  {
   "cell_type": "code",
   "execution_count": 6,
   "id": "aa76d1eb",
   "metadata": {
    "execution": {
     "iopub.execute_input": "2024-01-02T18:09:39.891906Z",
     "iopub.status.busy": "2024-01-02T18:09:39.891617Z",
     "iopub.status.idle": "2024-01-02T18:09:56.250800Z",
     "shell.execute_reply": "2024-01-02T18:09:56.249963Z"
    },
    "papermill": {
     "duration": 16.371072,
     "end_time": "2024-01-02T18:09:56.253139",
     "exception": false,
     "start_time": "2024-01-02T18:09:39.882067",
     "status": "completed"
    },
    "tags": []
   },
   "outputs": [
    {
     "data": {
      "application/vnd.jupyter.widget-view+json": {
       "model_id": "633135c4fe66423a99edf3f8b8c58b72",
       "version_major": 2,
       "version_minor": 0
      },
      "text/plain": [
       "preprocessor_config.json:   0%|          | 0.00/160 [00:00<?, ?B/s]"
      ]
     },
     "metadata": {},
     "output_type": "display_data"
    },
    {
     "data": {
      "application/vnd.jupyter.widget-view+json": {
       "model_id": "7f2c05c3433e451ea896e0f72ee2714d",
       "version_major": 2,
       "version_minor": 0
      },
      "text/plain": [
       "config.json:   0%|          | 0.00/502 [00:00<?, ?B/s]"
      ]
     },
     "metadata": {},
     "output_type": "display_data"
    },
    {
     "data": {
      "application/vnd.jupyter.widget-view+json": {
       "model_id": "e3d8cb9d60d84633a936386947b72425",
       "version_major": 2,
       "version_minor": 0
      },
      "text/plain": [
       "pytorch_model.bin:   0%|          | 0.00/346M [00:00<?, ?B/s]"
      ]
     },
     "metadata": {},
     "output_type": "display_data"
    }
   ],
   "source": [
    "from transformers import ViTModel, AutoImageProcessor\n",
    "\n",
    "image_processor = AutoImageProcessor.from_pretrained(\"google/vit-base-patch16-224-in21k\", do_rescale=False)\n",
    "model = ViTModel.from_pretrained('google/vit-base-patch16-224-in21k')"
   ]
  },
  {
   "cell_type": "code",
   "execution_count": 7,
   "id": "0825cbb0",
   "metadata": {
    "execution": {
     "iopub.execute_input": "2024-01-02T18:09:56.274303Z",
     "iopub.status.busy": "2024-01-02T18:09:56.273737Z",
     "iopub.status.idle": "2024-01-02T18:10:02.073619Z",
     "shell.execute_reply": "2024-01-02T18:10:02.072726Z"
    },
    "papermill": {
     "duration": 5.812549,
     "end_time": "2024-01-02T18:10:02.075733",
     "exception": false,
     "start_time": "2024-01-02T18:09:56.263184",
     "status": "completed"
    },
    "tags": []
   },
   "outputs": [
    {
     "data": {
      "text/plain": [
       "ViTModel(\n",
       "  (embeddings): ViTEmbeddings(\n",
       "    (patch_embeddings): ViTPatchEmbeddings(\n",
       "      (projection): Conv2d(3, 768, kernel_size=(16, 16), stride=(16, 16))\n",
       "    )\n",
       "    (dropout): Dropout(p=0.0, inplace=False)\n",
       "  )\n",
       "  (encoder): ViTEncoder(\n",
       "    (layer): ModuleList(\n",
       "      (0-11): 12 x ViTLayer(\n",
       "        (attention): ViTAttention(\n",
       "          (attention): ViTSelfAttention(\n",
       "            (query): Linear(in_features=768, out_features=768, bias=True)\n",
       "            (key): Linear(in_features=768, out_features=768, bias=True)\n",
       "            (value): Linear(in_features=768, out_features=768, bias=True)\n",
       "            (dropout): Dropout(p=0.0, inplace=False)\n",
       "          )\n",
       "          (output): ViTSelfOutput(\n",
       "            (dense): Linear(in_features=768, out_features=768, bias=True)\n",
       "            (dropout): Dropout(p=0.0, inplace=False)\n",
       "          )\n",
       "        )\n",
       "        (intermediate): ViTIntermediate(\n",
       "          (dense): Linear(in_features=768, out_features=3072, bias=True)\n",
       "          (intermediate_act_fn): GELUActivation()\n",
       "        )\n",
       "        (output): ViTOutput(\n",
       "          (dense): Linear(in_features=3072, out_features=768, bias=True)\n",
       "          (dropout): Dropout(p=0.0, inplace=False)\n",
       "        )\n",
       "        (layernorm_before): LayerNorm((768,), eps=1e-12, elementwise_affine=True)\n",
       "        (layernorm_after): LayerNorm((768,), eps=1e-12, elementwise_affine=True)\n",
       "      )\n",
       "    )\n",
       "  )\n",
       "  (layernorm): LayerNorm((768,), eps=1e-12, elementwise_affine=True)\n",
       "  (pooler): ViTPooler(\n",
       "    (dense): Linear(in_features=768, out_features=768, bias=True)\n",
       "    (activation): Tanh()\n",
       "  )\n",
       ")"
      ]
     },
     "execution_count": 7,
     "metadata": {},
     "output_type": "execute_result"
    }
   ],
   "source": [
    "device = torch.device(\"cuda\" if torch.cuda.is_available() else \"cpu\")\n",
    "model.to(device)"
   ]
  },
  {
   "cell_type": "code",
   "execution_count": 8,
   "id": "dda4aa47",
   "metadata": {
    "execution": {
     "iopub.execute_input": "2024-01-02T18:10:02.094529Z",
     "iopub.status.busy": "2024-01-02T18:10:02.094210Z",
     "iopub.status.idle": "2024-01-02T18:10:02.274033Z",
     "shell.execute_reply": "2024-01-02T18:10:02.273257Z"
    },
    "papermill": {
     "duration": 0.191775,
     "end_time": "2024-01-02T18:10:02.276327",
     "exception": false,
     "start_time": "2024-01-02T18:10:02.084552",
     "status": "completed"
    },
    "tags": []
   },
   "outputs": [],
   "source": [
    "from torchvision.datasets import ImageFolder\n",
    "\n",
    "BATCH_SIZE = 32 \n",
    "NUM_EPOCHS = 5\n",
    "\n",
    "train_path = '/kaggle/working/miniimagenet/train/'\n",
    "val_path = '/kaggle/working/miniimagenet/val/'\n",
    "test_path = '/kaggle/working/miniimagenet/test/'\n",
    "\n",
    "transform = transforms.Compose([\n",
    "    transforms.Resize((224, 224)),\n",
    "    transforms.ToTensor(),\n",
    "])\n",
    "\n",
    "train_dataset = ImageFolder(train_path, transform=transform)\n",
    "val_dataset = ImageFolder(val_path, transform=transform)\n",
    "test_dataset = ImageFolder(test_path, transform=transform)\n",
    "\n",
    "train_loader = DataLoader(train_dataset, batch_size=BATCH_SIZE, shuffle=True)\n",
    "val_loader = DataLoader(val_dataset, batch_size=BATCH_SIZE, shuffle=False)\n",
    "test_loader = DataLoader(test_dataset, batch_size=BATCH_SIZE, shuffle=False)"
   ]
  },
  {
   "cell_type": "code",
   "execution_count": 9,
   "id": "082db602",
   "metadata": {
    "execution": {
     "iopub.execute_input": "2024-01-02T18:10:02.295159Z",
     "iopub.status.busy": "2024-01-02T18:10:02.294851Z",
     "iopub.status.idle": "2024-01-02T18:10:02.299989Z",
     "shell.execute_reply": "2024-01-02T18:10:02.299280Z"
    },
    "papermill": {
     "duration": 0.016418,
     "end_time": "2024-01-02T18:10:02.301827",
     "exception": false,
     "start_time": "2024-01-02T18:10:02.285409",
     "status": "completed"
    },
    "tags": []
   },
   "outputs": [],
   "source": [
    "NUM_CLASSES = len(train_dataset.classes)\n",
    "classification_head = Linear(model.config.hidden_size, NUM_CLASSES).to(device)"
   ]
  },
  {
   "cell_type": "code",
   "execution_count": 10,
   "id": "733c7013",
   "metadata": {
    "execution": {
     "iopub.execute_input": "2024-01-02T18:10:02.321315Z",
     "iopub.status.busy": "2024-01-02T18:10:02.321037Z",
     "iopub.status.idle": "2024-01-02T18:10:02.325142Z",
     "shell.execute_reply": "2024-01-02T18:10:02.324264Z"
    },
    "papermill": {
     "duration": 0.015777,
     "end_time": "2024-01-02T18:10:02.327073",
     "exception": false,
     "start_time": "2024-01-02T18:10:02.311296",
     "status": "completed"
    },
    "tags": []
   },
   "outputs": [],
   "source": [
    "from torch.nn.utils import clip_grad_norm_\n",
    "from torch.optim.lr_scheduler import ReduceLROnPlateau"
   ]
  },
  {
   "cell_type": "code",
   "execution_count": 11,
   "id": "9f4caab8",
   "metadata": {
    "execution": {
     "iopub.execute_input": "2024-01-02T18:10:02.345432Z",
     "iopub.status.busy": "2024-01-02T18:10:02.345147Z",
     "iopub.status.idle": "2024-01-02T18:10:02.362426Z",
     "shell.execute_reply": "2024-01-02T18:10:02.361540Z"
    },
    "papermill": {
     "duration": 0.028692,
     "end_time": "2024-01-02T18:10:02.364186",
     "exception": false,
     "start_time": "2024-01-02T18:10:02.335494",
     "status": "completed"
    },
    "tags": []
   },
   "outputs": [],
   "source": [
    "def train_model(model, classification_head, train_loader, val_loader, optimizer, num_epochs=NUM_EPOCHS, early_stopping_patience=3):\n",
    "    if torch.cuda.device_count() > 1:\n",
    "        print(f\"{torch.cuda.device_count()} GPUs!\")\n",
    "        model = nn.DataParallel(model)\n",
    "    model.to(device)\n",
    "    classification_head.to(device)\n",
    "\n",
    "    loss_fn = CrossEntropyLoss()\n",
    "    \n",
    "    train_losses = []\n",
    "    train_accuracies = []\n",
    "    val_losses = []\n",
    "    val_accuracies = []\n",
    "    \n",
    "    early_stopping_counter = 0\n",
    "    best_val_loss = float('inf')\n",
    "    \n",
    "    scheduler = ReduceLROnPlateau(optimizer, mode='min', patience=2, verbose=True)\n",
    "\n",
    "    for epoch in range(num_epochs):\n",
    "        # Training Step\n",
    "        model.train()\n",
    "        classification_head.train()\n",
    "        \n",
    "        total_loss = 0\n",
    "        correct_train_predictions = 0\n",
    "        total_train_samples = 0\n",
    "        \n",
    "        train_progress_bar = tqdm(train_loader, desc=f'Epoch {epoch+1}/{num_epochs} [Training]')\n",
    "\n",
    "        for images, labels in train_progress_bar:\n",
    "            images = images.to(device)\n",
    "            labels = labels.to(device)\n",
    "\n",
    "            inputs = image_processor(images, return_tensors=\"pt\").to(device)\n",
    "            outputs = model(**inputs).last_hidden_state\n",
    "            outputs = outputs[:, 0, :]\n",
    "            logits = classification_head(outputs)\n",
    "\n",
    "            loss = loss_fn(logits, labels)\n",
    "            total_loss += loss.item()\n",
    "            \n",
    "            _, predictions = torch.max(logits, 1)\n",
    "            correct_train_predictions += (predictions == labels).sum().item()\n",
    "            total_train_samples += labels.size(0)\n",
    "\n",
    "            optimizer.zero_grad()\n",
    "            loss.backward()\n",
    "            clip_grad_norm_(model.parameters(), max_norm=1.0)\n",
    "            optimizer.step()\n",
    "            \n",
    "            train_progress_bar.set_postfix(loss=loss.item())\n",
    "\n",
    "        avg_train_loss = total_loss / len(train_loader)\n",
    "        train_accuracy = correct_train_predictions / total_train_samples\n",
    "        \n",
    "        train_losses.append(avg_train_loss)\n",
    "        train_accuracies.append(train_accuracy)\n",
    "\n",
    "        # Validation Step\n",
    "        model.eval()\n",
    "        classification_head.eval()\n",
    "        \n",
    "        total_val_loss = 0\n",
    "        correct_predictions = 0\n",
    "        total_samples = 0\n",
    "        \n",
    "        val_progress_bar = tqdm(val_loader, desc=f'Epoch {epoch+1}/{num_epochs} [Validation]')\n",
    "\n",
    "        with torch.no_grad():\n",
    "            for images, labels in val_progress_bar:\n",
    "                images = images.to(device)\n",
    "                labels = labels.to(device)\n",
    "\n",
    "                inputs = image_processor(images, return_tensors=\"pt\").to(device)\n",
    "                outputs = model(**inputs).last_hidden_state\n",
    "                outputs = outputs[:, 0, :]\n",
    "                logits = classification_head(outputs)\n",
    "\n",
    "                val_loss = loss_fn(logits, labels)\n",
    "                total_val_loss += val_loss.item()\n",
    "\n",
    "                _, predictions = torch.max(logits, 1)\n",
    "                correct_predictions += (predictions == labels).sum().item()\n",
    "                total_samples += labels.size(0)\n",
    "                \n",
    "                val_progress_bar.set_postfix(loss=val_loss.item())\n",
    "\n",
    "        avg_val_loss = total_val_loss / len(val_loader)\n",
    "        val_accuracy = correct_predictions / total_samples\n",
    "        \n",
    "        scheduler.step(avg_val_loss)\n",
    "        \n",
    "        val_losses.append(avg_val_loss)\n",
    "        val_accuracies.append(val_accuracy)\n",
    "        \n",
    "        print(f\"Epoch {epoch + 1}/{num_epochs}, Training loss: {avg_train_loss:.4f}, Training Accuracy: {train_accuracy:.4f}, Validation loss: {avg_val_loss:.4f}, Validation Accuracy: {val_accuracy:.4f}\")\n",
    "        \n",
    "        if avg_val_loss < best_val_loss:\n",
    "            best_val_loss = avg_val_loss\n",
    "            early_stopping_counter = 0\n",
    "        else:\n",
    "            early_stopping_counter += 1\n",
    "\n",
    "        if early_stopping_counter >= early_stopping_patience:\n",
    "            print(f\"Early stopping after {epoch + 1} epochs without improvement in validation loss.\")\n",
    "            break\n",
    "        \n",
    "    return train_losses, train_accuracies, val_losses, val_accuracies"
   ]
  },
  {
   "cell_type": "code",
   "execution_count": 12,
   "id": "38d001a5",
   "metadata": {
    "execution": {
     "iopub.execute_input": "2024-01-02T18:10:02.382867Z",
     "iopub.status.busy": "2024-01-02T18:10:02.382594Z",
     "iopub.status.idle": "2024-01-02T18:10:02.392873Z",
     "shell.execute_reply": "2024-01-02T18:10:02.391969Z"
    },
    "papermill": {
     "duration": 0.021961,
     "end_time": "2024-01-02T18:10:02.394705",
     "exception": false,
     "start_time": "2024-01-02T18:10:02.372744",
     "status": "completed"
    },
    "tags": []
   },
   "outputs": [],
   "source": [
    "def test_model(model, classification_head, test_loader):\n",
    "    if torch.cuda.device_count() > 1:\n",
    "        print(f\"{torch.cuda.device_count()} GPUs!\")\n",
    "        model = nn.DataParallel(model)\n",
    "    model.eval()\n",
    "    classification_head.eval()\n",
    "\n",
    "    total_test_loss = 0\n",
    "    correct_predictions = 0\n",
    "    total_samples = 0\n",
    "    \n",
    "    test_losses = []\n",
    "    test_accuracies = []\n",
    "\n",
    "    loss_fn = CrossEntropyLoss()\n",
    "\n",
    "    test_progress_bar = tqdm(test_loader, desc='Testing')\n",
    "\n",
    "    with torch.no_grad():\n",
    "        for images, labels in test_progress_bar:\n",
    "            images = images.to(device)\n",
    "            labels = labels.to(device)\n",
    "\n",
    "            inputs = image_processor(images, return_tensors=\"pt\").to(device)\n",
    "            outputs = model(**inputs).last_hidden_state\n",
    "            outputs = outputs[:, 0, :]\n",
    "            logits = classification_head(outputs)\n",
    "\n",
    "            test_loss = loss_fn(logits, labels)\n",
    "            total_test_loss += test_loss.item()\n",
    "\n",
    "            _, predictions = torch.max(logits, 1)\n",
    "            correct_predictions += (predictions == labels).sum().item()\n",
    "            total_samples += labels.size(0)\n",
    "\n",
    "            test_progress_bar.set_postfix(loss=test_loss.item())\n",
    "            \n",
    "            test_losses.append(test_loss.item())\n",
    "            test_accuracies.append((predictions == labels).sum().item() / labels.size(0))\n",
    "\n",
    "    avg_test_loss = total_test_loss / len(test_loader)\n",
    "    test_accuracy = correct_predictions / total_samples\n",
    "\n",
    "    print(f\"Test Loss: {avg_test_loss:.4f}, Test Accuracy: {test_accuracy:.4f}\")\n",
    "\n",
    "    return test_losses, test_accuracies"
   ]
  },
  {
   "cell_type": "code",
   "execution_count": 13,
   "id": "f34e59a8",
   "metadata": {
    "execution": {
     "iopub.execute_input": "2024-01-02T18:10:02.413887Z",
     "iopub.status.busy": "2024-01-02T18:10:02.413596Z",
     "iopub.status.idle": "2024-01-02T18:10:02.418323Z",
     "shell.execute_reply": "2024-01-02T18:10:02.417472Z"
    },
    "papermill": {
     "duration": 0.016531,
     "end_time": "2024-01-02T18:10:02.420213",
     "exception": false,
     "start_time": "2024-01-02T18:10:02.403682",
     "status": "completed"
    },
    "tags": []
   },
   "outputs": [],
   "source": [
    "# def objective(trial):\n",
    "#     model = ViTModel.from_pretrained('google/vit-base-patch16-224-in21k')\n",
    "#     classification_head = nn.Linear(model.config.hidden_size, NUM_CLASSES)\n",
    "    \n",
    "#     model.to(device)\n",
    "#     classification_head.to(device)\n",
    "    \n",
    "#     # Get optimizer name from trial\n",
    "#     optimizer_name = trial.suggest_categorical(\"optimizer\", [\"Adam\", \"SGD\", 'RMSprop', 'AdamW'])\n",
    "    \n",
    "#     # Get other hyperparameters\n",
    "#     lr = trial.suggest_float(\"lr\", 1e-5, 1e-3, log=True)\n",
    "    \n",
    "#     # Dynamically get the optimizer class using getattr\n",
    "#     optimizer_cls = getattr(optim, optimizer_name)\n",
    "    \n",
    "#     # Initialize optimizer with suggested learning rate\n",
    "#     optimizer = optimizer_cls(\n",
    "#         list(model.parameters()) + list(classification_head.parameters()),\n",
    "#         lr=lr,\n",
    "#     )\n",
    "    \n",
    "#     # Train and validate the model with the classification head\n",
    "#     val_loss = train_model(\n",
    "#         model, classification_head, train_loader, val_loader, optimizer, num_epochs=NUM_EPOCHS\n",
    "#     )\n",
    "    \n",
    "#     # Return the negative validation loss as Optuna minimizes the objective\n",
    "#     return -val_loss"
   ]
  },
  {
   "cell_type": "code",
   "execution_count": 14,
   "id": "a1ae4add",
   "metadata": {
    "execution": {
     "iopub.execute_input": "2024-01-02T18:10:02.439394Z",
     "iopub.status.busy": "2024-01-02T18:10:02.439098Z",
     "iopub.status.idle": "2024-01-02T18:10:02.442788Z",
     "shell.execute_reply": "2024-01-02T18:10:02.441931Z"
    },
    "papermill": {
     "duration": 0.015538,
     "end_time": "2024-01-02T18:10:02.444716",
     "exception": false,
     "start_time": "2024-01-02T18:10:02.429178",
     "status": "completed"
    },
    "tags": []
   },
   "outputs": [],
   "source": [
    "# study = optuna.create_study(direction=\"minimize\")\n",
    "# study.optimize(objective, n_trials=10)"
   ]
  },
  {
   "cell_type": "code",
   "execution_count": 15,
   "id": "c0a4e3f0",
   "metadata": {
    "execution": {
     "iopub.execute_input": "2024-01-02T18:10:02.463117Z",
     "iopub.status.busy": "2024-01-02T18:10:02.462878Z",
     "iopub.status.idle": "2024-01-02T18:10:02.466483Z",
     "shell.execute_reply": "2024-01-02T18:10:02.465606Z"
    },
    "papermill": {
     "duration": 0.015095,
     "end_time": "2024-01-02T18:10:02.468431",
     "exception": false,
     "start_time": "2024-01-02T18:10:02.453336",
     "status": "completed"
    },
    "tags": []
   },
   "outputs": [],
   "source": [
    "# best_params = study.best_params\n",
    "# print(\"Best Hyperparameters:\", best_params)"
   ]
  },
  {
   "cell_type": "markdown",
   "id": "3e3776dd",
   "metadata": {
    "papermill": {
     "duration": 0.008736,
     "end_time": "2024-01-02T18:10:02.485892",
     "exception": false,
     "start_time": "2024-01-02T18:10:02.477156",
     "status": "completed"
    },
    "tags": []
   },
   "source": [
    "### with RMSprop"
   ]
  },
  {
   "cell_type": "code",
   "execution_count": 16,
   "id": "25f07fe4",
   "metadata": {
    "execution": {
     "iopub.execute_input": "2024-01-02T18:10:02.505524Z",
     "iopub.status.busy": "2024-01-02T18:10:02.504912Z",
     "iopub.status.idle": "2024-01-02T20:55:37.922928Z",
     "shell.execute_reply": "2024-01-02T20:55:37.921982Z"
    },
    "papermill": {
     "duration": 9935.430405,
     "end_time": "2024-01-02T20:55:37.925140",
     "exception": false,
     "start_time": "2024-01-02T18:10:02.494735",
     "status": "completed"
    },
    "tags": []
   },
   "outputs": [
    {
     "name": "stdout",
     "output_type": "stream",
     "text": [
      "2 GPUs!\n"
     ]
    },
    {
     "name": "stderr",
     "output_type": "stream",
     "text": [
      "Epoch 1/10 [Training]: 100%|██████████| 960/960 [15:34<00:00,  1.03it/s, loss=2.57]\n",
      "Epoch 1/10 [Validation]: 100%|██████████| 120/120 [01:09<00:00,  1.74it/s, loss=2.84]\n"
     ]
    },
    {
     "name": "stdout",
     "output_type": "stream",
     "text": [
      "Epoch 1/10, Training loss: 3.2259, Training Accuracy: 0.7850, Validation loss: 2.4652, Validation Accuracy: 0.9060\n"
     ]
    },
    {
     "name": "stderr",
     "output_type": "stream",
     "text": [
      "Epoch 2/10 [Training]: 100%|██████████| 960/960 [15:26<00:00,  1.04it/s, loss=1.45]\n",
      "Epoch 2/10 [Validation]: 100%|██████████| 120/120 [01:07<00:00,  1.78it/s, loss=1.69]\n"
     ]
    },
    {
     "name": "stdout",
     "output_type": "stream",
     "text": [
      "Epoch 2/10, Training loss: 1.8373, Training Accuracy: 0.9292, Validation loss: 1.3843, Validation Accuracy: 0.9263\n"
     ]
    },
    {
     "name": "stderr",
     "output_type": "stream",
     "text": [
      "Epoch 3/10 [Training]: 100%|██████████| 960/960 [15:27<00:00,  1.03it/s, loss=0.871]\n",
      "Epoch 3/10 [Validation]: 100%|██████████| 120/120 [01:08<00:00,  1.75it/s, loss=1.07]\n"
     ]
    },
    {
     "name": "stdout",
     "output_type": "stream",
     "text": [
      "Epoch 3/10, Training loss: 0.9304, Training Accuracy: 0.9588, Validation loss: 0.7549, Validation Accuracy: 0.9354\n"
     ]
    },
    {
     "name": "stderr",
     "output_type": "stream",
     "text": [
      "Epoch 4/10 [Training]: 100%|██████████| 960/960 [15:27<00:00,  1.04it/s, loss=0.215]\n",
      "Epoch 4/10 [Validation]: 100%|██████████| 120/120 [01:07<00:00,  1.77it/s, loss=0.949]\n"
     ]
    },
    {
     "name": "stdout",
     "output_type": "stream",
     "text": [
      "Epoch 4/10, Training loss: 0.4250, Training Accuracy: 0.9765, Validation loss: 0.4548, Validation Accuracy: 0.9375\n"
     ]
    },
    {
     "name": "stderr",
     "output_type": "stream",
     "text": [
      "Epoch 5/10 [Training]: 100%|██████████| 960/960 [15:24<00:00,  1.04it/s, loss=0.19]\n",
      "Epoch 5/10 [Validation]: 100%|██████████| 120/120 [01:08<00:00,  1.75it/s, loss=0.745]\n"
     ]
    },
    {
     "name": "stdout",
     "output_type": "stream",
     "text": [
      "Epoch 5/10, Training loss: 0.1888, Training Accuracy: 0.9867, Validation loss: 0.3387, Validation Accuracy: 0.9354\n"
     ]
    },
    {
     "name": "stderr",
     "output_type": "stream",
     "text": [
      "Epoch 6/10 [Training]: 100%|██████████| 960/960 [15:23<00:00,  1.04it/s, loss=0.152]\n",
      "Epoch 6/10 [Validation]: 100%|██████████| 120/120 [01:08<00:00,  1.76it/s, loss=0.798]\n"
     ]
    },
    {
     "name": "stdout",
     "output_type": "stream",
     "text": [
      "Epoch 6/10, Training loss: 0.0862, Training Accuracy: 0.9930, Validation loss: 0.3093, Validation Accuracy: 0.9339\n"
     ]
    },
    {
     "name": "stderr",
     "output_type": "stream",
     "text": [
      "Epoch 7/10 [Training]: 100%|██████████| 960/960 [15:24<00:00,  1.04it/s, loss=0.0149]\n",
      "Epoch 7/10 [Validation]: 100%|██████████| 120/120 [01:08<00:00,  1.75it/s, loss=0.607]\n"
     ]
    },
    {
     "name": "stdout",
     "output_type": "stream",
     "text": [
      "Epoch 7/10, Training loss: 0.0408, Training Accuracy: 0.9968, Validation loss: 0.3061, Validation Accuracy: 0.9354\n"
     ]
    },
    {
     "name": "stderr",
     "output_type": "stream",
     "text": [
      "Epoch 8/10 [Training]: 100%|██████████| 960/960 [15:22<00:00,  1.04it/s, loss=0.00837]\n",
      "Epoch 8/10 [Validation]: 100%|██████████| 120/120 [01:07<00:00,  1.77it/s, loss=0.564]\n"
     ]
    },
    {
     "name": "stdout",
     "output_type": "stream",
     "text": [
      "Epoch 8/10, Training loss: 0.0218, Training Accuracy: 0.9979, Validation loss: 0.2940, Validation Accuracy: 0.9398\n"
     ]
    },
    {
     "name": "stderr",
     "output_type": "stream",
     "text": [
      "Epoch 9/10 [Training]: 100%|██████████| 960/960 [15:23<00:00,  1.04it/s, loss=0.00363]\n",
      "Epoch 9/10 [Validation]: 100%|██████████| 120/120 [01:07<00:00,  1.78it/s, loss=0.531]\n"
     ]
    },
    {
     "name": "stdout",
     "output_type": "stream",
     "text": [
      "Epoch 9/10, Training loss: 0.0128, Training Accuracy: 0.9987, Validation loss: 0.3316, Validation Accuracy: 0.9385\n"
     ]
    },
    {
     "name": "stderr",
     "output_type": "stream",
     "text": [
      "Epoch 10/10 [Training]: 100%|██████████| 960/960 [15:22<00:00,  1.04it/s, loss=0.00176]\n",
      "Epoch 10/10 [Validation]: 100%|██████████| 120/120 [01:07<00:00,  1.77it/s, loss=0.838]"
     ]
    },
    {
     "name": "stdout",
     "output_type": "stream",
     "text": [
      "Epoch 10/10, Training loss: 0.0082, Training Accuracy: 0.9989, Validation loss: 0.3482, Validation Accuracy: 0.9380\n"
     ]
    },
    {
     "name": "stderr",
     "output_type": "stream",
     "text": [
      "\n"
     ]
    }
   ],
   "source": [
    "NUM_CLASSES = len(train_dataset.classes)\n",
    "NUM_EPOCHS = 10\n",
    "LEARNING_RATE = 1e-5\n",
    "\n",
    "optimizer = optim.RMSprop(list(model.parameters()) + list(classification_head.parameters()), lr=LEARNING_RATE)\n",
    "\n",
    "train_losses, train_accuracies, val_losses, val_accuracies = train_model(\n",
    "        model, classification_head, train_loader, val_loader, optimizer, num_epochs=NUM_EPOCHS\n",
    "    )"
   ]
  },
  {
   "cell_type": "code",
   "execution_count": 17,
   "id": "40c14e8d",
   "metadata": {
    "execution": {
     "iopub.execute_input": "2024-01-02T20:55:41.500923Z",
     "iopub.status.busy": "2024-01-02T20:55:41.500588Z",
     "iopub.status.idle": "2024-01-02T20:55:41.927140Z",
     "shell.execute_reply": "2024-01-02T20:55:41.926150Z"
    },
    "papermill": {
     "duration": 2.204073,
     "end_time": "2024-01-02T20:55:41.929496",
     "exception": false,
     "start_time": "2024-01-02T20:55:39.725423",
     "status": "completed"
    },
    "tags": []
   },
   "outputs": [],
   "source": [
    "torch.save(model.state_dict(), 'vit_model_rmsprop.pth')"
   ]
  },
  {
   "cell_type": "code",
   "execution_count": 18,
   "id": "ebc2796b",
   "metadata": {
    "execution": {
     "iopub.execute_input": "2024-01-02T20:55:45.478263Z",
     "iopub.status.busy": "2024-01-02T20:55:45.477903Z",
     "iopub.status.idle": "2024-01-02T20:55:46.104436Z",
     "shell.execute_reply": "2024-01-02T20:55:46.103615Z"
    },
    "papermill": {
     "duration": 2.410462,
     "end_time": "2024-01-02T20:55:46.106599",
     "exception": false,
     "start_time": "2024-01-02T20:55:43.696137",
     "status": "completed"
    },
    "tags": []
   },
   "outputs": [
    {
     "data": {
      "image/png": "[encoded data removed]",
      "text/plain": [
       "<Figure size 1200x400 with 2 Axes>"
      ]
     },
     "metadata": {},
     "output_type": "display_data"
    }
   ],
   "source": [
    "epochs = range(1, len(train_losses) + 1)\n",
    "\n",
    "# Training vs Validation Loss\n",
    "plt.figure(figsize=(12, 4))\n",
    "plt.subplot(1, 2, 1)\n",
    "plt.plot(epochs, train_losses, label='Training Loss')\n",
    "plt.plot(epochs, val_losses, label='Validation Loss')\n",
    "plt.xlabel('Epochs')\n",
    "plt.ylabel('Loss')\n",
    "plt.title('Training vs Validation Loss')\n",
    "plt.legend()\n",
    "\n",
    "# Training vs Validation Accuracy\n",
    "plt.subplot(1, 2, 2)\n",
    "plt.plot(epochs, train_accuracies, label='Training Accuracy')\n",
    "plt.plot(epochs, val_accuracies, label='Validation Accuracy')\n",
    "plt.xlabel('Epochs')\n",
    "plt.ylabel('Accuracy')\n",
    "plt.title('Training vs Validation Accuracy')\n",
    "plt.legend()\n",
    "\n",
    "plt.tight_layout()\n",
    "plt.show()"
   ]
  },
  {
   "cell_type": "code",
   "execution_count": 19,
   "id": "8b7081ff",
   "metadata": {
    "execution": {
     "iopub.execute_input": "2024-01-02T20:55:49.628117Z",
     "iopub.status.busy": "2024-01-02T20:55:49.627713Z",
     "iopub.status.idle": "2024-01-02T20:56:57.385684Z",
     "shell.execute_reply": "2024-01-02T20:56:57.384746Z"
    },
    "papermill": {
     "duration": 69.574447,
     "end_time": "2024-01-02T20:56:57.387756",
     "exception": false,
     "start_time": "2024-01-02T20:55:47.813309",
     "status": "completed"
    },
    "tags": []
   },
   "outputs": [
    {
     "name": "stdout",
     "output_type": "stream",
     "text": [
      "2 GPUs!\n"
     ]
    },
    {
     "name": "stderr",
     "output_type": "stream",
     "text": [
      "Testing: 100%|██████████| 120/120 [01:07<00:00,  1.78it/s, loss=0.00288]"
     ]
    },
    {
     "name": "stdout",
     "output_type": "stream",
     "text": [
      "Test Loss: 0.3811, Test Accuracy: 0.9315\n"
     ]
    },
    {
     "name": "stderr",
     "output_type": "stream",
     "text": [
      "\n"
     ]
    }
   ],
   "source": [
    "# Evaluate the model\n",
    "model_path = '/kaggle/working/vit_model_rmsprop.pth'\n",
    "model.load_state_dict(torch.load(model_path))\n",
    "test_losses, test_accuracies = test_model(model, classification_head, test_loader)"
   ]
  },
  {
   "cell_type": "code",
   "execution_count": 20,
   "id": "462df22c",
   "metadata": {
    "execution": {
     "iopub.execute_input": "2024-01-02T20:57:00.906829Z",
     "iopub.status.busy": "2024-01-02T20:57:00.906441Z",
     "iopub.status.idle": "2024-01-02T20:57:01.504095Z",
     "shell.execute_reply": "2024-01-02T20:57:01.503316Z"
    },
    "papermill": {
     "duration": 2.306799,
     "end_time": "2024-01-02T20:57:01.506630",
     "exception": false,
     "start_time": "2024-01-02T20:56:59.199831",
     "status": "completed"
    },
    "tags": []
   },
   "outputs": [
    {
     "data": {
      "image/png": "[encoded data removed]",
      "text/plain": [
       "<Figure size 1200x400 with 2 Axes>"
      ]
     },
     "metadata": {},
     "output_type": "display_data"
    }
   ],
   "source": [
    "\n",
    "# epochs = range(1, len(test_losses) + 1)\n",
    "\n",
    "plt.figure(figsize=(12, 4))\n",
    "plt.subplot(1, 2, 1)\n",
    "plt.plot(test_losses, label='Test Loss')\n",
    "plt.ylabel('Loss')\n",
    "plt.title('Test Loss')\n",
    "\n",
    "plt.subplot(1, 2, 2)\n",
    "plt.plot(test_accuracies, label='Test Accuracy')\n",
    "plt.ylabel('Accuracy')\n",
    "plt.title('Test Accuracy')\n",
    "\n",
    "plt.tight_layout()\n",
    "plt.show()"
   ]
  },
  {
   "cell_type": "code",
   "execution_count": 21,
   "id": "6f25eb01",
   "metadata": {
    "execution": {
     "iopub.execute_input": "2024-01-02T20:57:05.188248Z",
     "iopub.status.busy": "2024-01-02T20:57:05.187294Z",
     "iopub.status.idle": "2024-01-02T20:57:05.377271Z",
     "shell.execute_reply": "2024-01-02T20:57:05.376307Z"
    },
    "papermill": {
     "duration": 2.008304,
     "end_time": "2024-01-02T20:57:05.379259",
     "exception": false,
     "start_time": "2024-01-02T20:57:03.370955",
     "status": "completed"
    },
    "tags": []
   },
   "outputs": [],
   "source": [
    "torch.cuda.empty_cache()"
   ]
  },
  {
   "cell_type": "markdown",
   "id": "a3936b14",
   "metadata": {
    "papermill": {
     "duration": 1.747612,
     "end_time": "2024-01-02T20:57:08.947123",
     "exception": false,
     "start_time": "2024-01-02T20:57:07.199511",
     "status": "completed"
    },
    "tags": []
   },
   "source": [
    "### with AdamW"
   ]
  },
  {
   "cell_type": "code",
   "execution_count": 22,
   "id": "3741a397",
   "metadata": {
    "execution": {
     "iopub.execute_input": "2024-01-02T20:57:12.535330Z",
     "iopub.status.busy": "2024-01-02T20:57:12.534963Z",
     "iopub.status.idle": "2024-01-02T20:57:12.539464Z",
     "shell.execute_reply": "2024-01-02T20:57:12.538505Z"
    },
    "papermill": {
     "duration": 1.719218,
     "end_time": "2024-01-02T20:57:12.541419",
     "exception": false,
     "start_time": "2024-01-02T20:57:10.822201",
     "status": "completed"
    },
    "tags": []
   },
   "outputs": [],
   "source": [
    "# NUM_CLASSES = len(train_dataset.classes)\n",
    "# NUM_EPOCHS = 10\n",
    "# LEARNING_RATE = 0.0001\n",
    "\n",
    "# optimizer = optim.AdamW(list(model.parameters()) + list(classification_head.parameters()), lr=LEARNING_RATE)\n",
    "\n",
    "# train_losses, train_accuracies, val_losses, val_accuracies = train_model(\n",
    "#         model, classification_head, train_loader, val_loader, optimizer, num_epochs=NUM_EPOCHS\n",
    "#     )"
   ]
  },
  {
   "cell_type": "code",
   "execution_count": 23,
   "id": "577691ca",
   "metadata": {
    "execution": {
     "iopub.execute_input": "2024-01-02T20:57:16.195414Z",
     "iopub.status.busy": "2024-01-02T20:57:16.194718Z",
     "iopub.status.idle": "2024-01-02T20:57:16.199066Z",
     "shell.execute_reply": "2024-01-02T20:57:16.198226Z"
    },
    "papermill": {
     "duration": 1.853756,
     "end_time": "2024-01-02T20:57:16.200948",
     "exception": false,
     "start_time": "2024-01-02T20:57:14.347192",
     "status": "completed"
    },
    "tags": []
   },
   "outputs": [],
   "source": [
    "# torch.save(model.state_dict(), 'vit_model_adamw.pth')"
   ]
  },
  {
   "cell_type": "code",
   "execution_count": 24,
   "id": "408dc5c7",
   "metadata": {
    "execution": {
     "iopub.execute_input": "2024-01-02T20:57:19.735210Z",
     "iopub.status.busy": "2024-01-02T20:57:19.734519Z",
     "iopub.status.idle": "2024-01-02T20:57:19.739012Z",
     "shell.execute_reply": "2024-01-02T20:57:19.738160Z"
    },
    "papermill": {
     "duration": 1.80885,
     "end_time": "2024-01-02T20:57:19.740863",
     "exception": false,
     "start_time": "2024-01-02T20:57:17.932013",
     "status": "completed"
    },
    "tags": []
   },
   "outputs": [],
   "source": [
    "# epochs = range(1, len(train_losses) + 1)\n",
    "\n",
    "# # Training vs Validation Loss\n",
    "# plt.figure(figsize=(12, 4))\n",
    "# plt.subplot(1, 2, 1)\n",
    "# plt.plot(epochs, train_losses, label='Training Loss')\n",
    "# plt.plot(epochs, val_losses, label='Validation Loss')\n",
    "# plt.xlabel('Epochs')\n",
    "# plt.ylabel('Loss')\n",
    "# plt.title('Training vs Validation Loss')\n",
    "# plt.legend()\n",
    "\n",
    "# # Training vs Validation Accuracy\n",
    "# plt.subplot(1, 2, 2)\n",
    "# plt.plot(epochs, train_accuracies, label='Training Accuracy')\n",
    "# plt.plot(epochs, val_accuracies, label='Validation Accuracy')\n",
    "# plt.xlabel('Epochs')\n",
    "# plt.ylabel('Accuracy')\n",
    "# plt.title('Training vs Validation Accuracy')\n",
    "# plt.legend()\n",
    "\n",
    "# plt.tight_layout()\n",
    "# plt.show()"
   ]
  },
  {
   "cell_type": "code",
   "execution_count": 25,
   "id": "587841c8",
   "metadata": {
    "execution": {
     "iopub.execute_input": "2024-01-02T20:57:23.273228Z",
     "iopub.status.busy": "2024-01-02T20:57:23.272880Z",
     "iopub.status.idle": "2024-01-02T20:57:23.276913Z",
     "shell.execute_reply": "2024-01-02T20:57:23.276082Z"
    },
    "papermill": {
     "duration": 1.809799,
     "end_time": "2024-01-02T20:57:23.278812",
     "exception": false,
     "start_time": "2024-01-02T20:57:21.469013",
     "status": "completed"
    },
    "tags": []
   },
   "outputs": [],
   "source": [
    "# # Evaluate the model\n",
    "# model_path = '/kaggle/working/vit_model_adamw.pth'\n",
    "# model.load_state_dict(torch.load(model_path))\n",
    "# test_losses, test_accuracies = test_model(model, classification_head, test_loader)"
   ]
  },
  {
   "cell_type": "code",
   "execution_count": 26,
   "id": "c5505165",
   "metadata": {
    "execution": {
     "iopub.execute_input": "2024-01-02T20:57:26.876629Z",
     "iopub.status.busy": "2024-01-02T20:57:26.875774Z",
     "iopub.status.idle": "2024-01-02T20:57:26.880342Z",
     "shell.execute_reply": "2024-01-02T20:57:26.879342Z"
    },
    "papermill": {
     "duration": 1.774549,
     "end_time": "2024-01-02T20:57:26.882343",
     "exception": false,
     "start_time": "2024-01-02T20:57:25.107794",
     "status": "completed"
    },
    "tags": []
   },
   "outputs": [],
   "source": [
    "# plt.figure(figsize=(12, 4))\n",
    "# plt.subplot(1, 2, 1)\n",
    "# plt.plot(test_losses, label='Test Loss')\n",
    "# plt.ylabel('Loss')\n",
    "# plt.title('Test Loss')\n",
    "\n",
    "# plt.subplot(1, 2, 2)\n",
    "# plt.plot(test_accuracies, label='Test Accuracy')\n",
    "# plt.ylabel('Accuracy')\n",
    "# plt.title('Test Accuracy')\n",
    "\n",
    "# plt.tight_layout()\n",
    "# plt.show()"
   ]
  },
  {
   "cell_type": "code",
   "execution_count": null,
   "id": "61efb636",
   "metadata": {
    "papermill": {
     "duration": 1.732539,
     "end_time": "2024-01-02T20:57:30.431946",
     "exception": false,
     "start_time": "2024-01-02T20:57:28.699407",
     "status": "completed"
    },
    "tags": []
   },
   "outputs": [],
   "source": []
  }
 ],
 "metadata": {
  "kaggle": {
   "accelerator": "nvidiaTeslaT4",
   "dataSources": [
    {
     "datasetId": 4225398,
     "sourceId": 7286473,
     "sourceType": "datasetVersion"
    }
   ],
   "dockerImageVersionId": 30627,
   "isGpuEnabled": true,
   "isInternetEnabled": true,
   "language": "python",
   "sourceType": "notebook"
  },
  "kernelspec": {
   "display_name": "Python 3",
   "language": "python",
   "name": "python3"
  },
  "language_info": {
   "codemirror_mode": {
    "name": "ipython",
    "version": 3
   },
   "file_extension": ".py",
   "mimetype": "text/x-python",
   "name": "python",
   "nbconvert_exporter": "python",
   "pygments_lexer": "ipython3",
   "version": "3.10.12"
  },
  "papermill": {
   "default_parameters": {},
   "duration": 10206.569176,
   "end_time": "2024-01-02T20:57:35.908715",
   "environment_variables": {},
   "exception": null,
   "input_path": "__notebook__.ipynb",
   "output_path": "__notebook__.ipynb",
   "parameters": {},
   "start_time": "2024-01-02T18:07:29.339539",
   "version": "2.4.0"
  },
  "widgets": {
   "application/vnd.jupyter.widget-state+json": {
    "state": {
     "011861b5296841409a1244232ca1cec0": {
      "model_module": "@jupyter-widgets/controls",
      "model_module_version": "1.5.0",
      "model_name": "ProgressStyleModel",
      "state": {
       "_model_module": "@jupyter-widgets/controls",
       "_model_module_version": "1.5.0",
       "_model_name": "ProgressStyleModel",
       "_view_count": null,
       "_view_module": "@jupyter-widgets/base",
       "_view_module_version": "1.2.0",
       "_view_name": "StyleView",
       "bar_color": null,
       "description_width": ""
      }
     },
     "0a334b50da0542be8fbb1674a288e883": {
      "model_module": "@jupyter-widgets/controls",
      "model_module_version": "1.5.0",
      "model_name": "FloatProgressModel",
      "state": {
       "_dom_classes": [],
       "_model_module": "@jupyter-widgets/controls",
       "_model_module_version": "1.5.0",
       "_model_name": "FloatProgressModel",
       "_view_count": null,
       "_view_module": "@jupyter-widgets/controls",
       "_view_module_version": "1.5.0",
       "_view_name": "ProgressView",
       "bar_style": "success",
       "description": "",
       "description_tooltip": null,
       "layout": "IPY_MODEL_d0056eb8deac413d937f4849c981251f",
       "max": 502.0,
       "min": 0.0,
       "orientation": "horizontal",
       "style": "IPY_MODEL_011861b5296841409a1244232ca1cec0",
       "value": 502.0
      }
     },
     "144d4dff225a4b1bb4670a5c57b4a9b0": {
      "model_module": "@jupyter-widgets/base",
      "model_module_version": "1.2.0",
      "model_name": "LayoutModel",
      "state": {
       "_model_module": "@jupyter-widgets/base",
       "_model_module_version": "1.2.0",
       "_model_name": "LayoutModel",
       "_view_count": null,
       "_view_module": "@jupyter-widgets/base",
       "_view_module_version": "1.2.0",
       "_view_name": "LayoutView",
       "align_content": null,
       "align_items": null,
       "align_self": null,
       "border": null,
       "bottom": null,
       "display": null,
       "flex": null,
       "flex_flow": null,
       "grid_area": null,
       "grid_auto_columns": null,
       "grid_auto_flow": null,
       "grid_auto_rows": null,
       "grid_column": null,
       "grid_gap": null,
       "grid_row": null,
       "grid_template_areas": null,
       "grid_template_columns": null,
       "grid_template_rows": null,
       "height": null,
       "justify_content": null,
       "justify_items": null,
       "left": null,
       "margin": null,
       "max_height": null,
       "max_width": null,
       "min_height": null,
       "min_width": null,
       "object_fit": null,
       "object_position": null,
       "order": null,
       "overflow": null,
       "overflow_x": null,
       "overflow_y": null,
       "padding": null,
       "right": null,
       "top": null,
       "visibility": null,
       "width": null
      }
     },
     "18a0652650fa48b3ade414737ce3dcb5": {
      "model_module": "@jupyter-widgets/base",
      "model_module_version": "1.2.0",
      "model_name": "LayoutModel",
      "state": {
       "_model_module": "@jupyter-widgets/base",
       "_model_module_version": "1.2.0",
       "_model_name": "LayoutModel",
       "_view_count": null,
       "_view_module": "@jupyter-widgets/base",
       "_view_module_version": "1.2.0",
       "_view_name": "LayoutView",
       "align_content": null,
       "align_items": null,
       "align_self": null,
       "border": null,
       "bottom": null,
       "display": null,
       "flex": null,
       "flex_flow": null,
       "grid_area": null,
       "grid_auto_columns": null,
       "grid_auto_flow": null,
       "grid_auto_rows": null,
       "grid_column": null,
       "grid_gap": null,
       "grid_row": null,
       "grid_template_areas": null,
       "grid_template_columns": null,
       "grid_template_rows": null,
       "height": null,
       "justify_content": null,
       "justify_items": null,
       "left": null,
       "margin": null,
       "max_height": null,
       "max_width": null,
       "min_height": null,
       "min_width": null,
       "object_fit": null,
       "object_position": null,
       "order": null,
       "overflow": null,
       "overflow_x": null,
       "overflow_y": null,
       "padding": null,
       "right": null,
       "top": null,
       "visibility": null,
       "width": null
      }
     },
     "1d810f85d6824de7b6aba3bfcadbd1da": {
      "model_module": "@jupyter-widgets/base",
      "model_module_version": "1.2.0",
      "model_name": "LayoutModel",
      "state": {
       "_model_module": "@jupyter-widgets/base",
       "_model_module_version": "1.2.0",
       "_model_name": "LayoutModel",
       "_view_count": null,
       "_view_module": "@jupyter-widgets/base",
       "_view_module_version": "1.2.0",
       "_view_name": "LayoutView",
       "align_content": null,
       "align_items": null,
       "align_self": null,
       "border": null,
       "bottom": null,
       "display": null,
       "flex": null,
       "flex_flow": null,
       "grid_area": null,
       "grid_auto_columns": null,
       "grid_auto_flow": null,
       "grid_auto_rows": null,
       "grid_column": null,
       "grid_gap": null,
       "grid_row": null,
       "grid_template_areas": null,
       "grid_template_columns": null,
       "grid_template_rows": null,
       "height": null,
       "justify_content": null,
       "justify_items": null,
       "left": null,
       "margin": null,
       "max_height": null,
       "max_width": null,
       "min_height": null,
       "min_width": null,
       "object_fit": null,
       "object_position": null,
       "order": null,
       "overflow": null,
       "overflow_x": null,
       "overflow_y": null,
       "padding": null,
       "right": null,
       "top": null,
       "visibility": null,
       "width": null
      }
     },
     "1ecbbde0ac8b48ca924736194a7f5279": {
      "model_module": "@jupyter-widgets/base",
      "model_module_version": "1.2.0",
      "model_name": "LayoutModel",
      "state": {
       "_model_module": "@jupyter-widgets/base",
       "_model_module_version": "1.2.0",
       "_model_name": "LayoutModel",
       "_view_count": null,
       "_view_module": "@jupyter-widgets/base",
       "_view_module_version": "1.2.0",
       "_view_name": "LayoutView",
       "align_content": null,
       "align_items": null,
       "align_self": null,
       "border": null,
       "bottom": null,
       "display": null,
       "flex": null,
       "flex_flow": null,
       "grid_area": null,
       "grid_auto_columns": null,
       "grid_auto_flow": null,
       "grid_auto_rows": null,
       "grid_column": null,
       "grid_gap": null,
       "grid_row": null,
       "grid_template_areas": null,
       "grid_template_columns": null,
       "grid_template_rows": null,
       "height": null,
       "justify_content": null,
       "justify_items": null,
       "left": null,
       "margin": null,
       "max_height": null,
       "max_width": null,
       "min_height": null,
       "min_width": null,
       "object_fit": null,
       "object_position": null,
       "order": null,
       "overflow": null,
       "overflow_x": null,
       "overflow_y": null,
       "padding": null,
       "right": null,
       "top": null,
       "visibility": null,
       "width": null
      }
     },
     "215c308ec4124eaab020ef96bb0da790": {
      "model_module": "@jupyter-widgets/base",
      "model_module_version": "1.2.0",
      "model_name": "LayoutModel",
      "state": {
       "_model_module": "@jupyter-widgets/base",
       "_model_module_version": "1.2.0",
       "_model_name": "LayoutModel",
       "_view_count": null,
       "_view_module": "@jupyter-widgets/base",
       "_view_module_version": "1.2.0",
       "_view_name": "LayoutView",
       "align_content": null,
       "align_items": null,
       "align_self": null,
       "border": null,
       "bottom": null,
       "display": null,
       "flex": null,
       "flex_flow": null,
       "grid_area": null,
       "grid_auto_columns": null,
       "grid_auto_flow": null,
       "grid_auto_rows": null,
       "grid_column": null,
       "grid_gap": null,
       "grid_row": null,
       "grid_template_areas": null,
       "grid_template_columns": null,
       "grid_template_rows": null,
       "height": null,
       "justify_content": null,
       "justify_items": null,
       "left": null,
       "margin": null,
       "max_height": null,
       "max_width": null,
       "min_height": null,
       "min_width": null,
       "object_fit": null,
       "object_position": null,
       "order": null,
       "overflow": null,
       "overflow_x": null,
       "overflow_y": null,
       "padding": null,
       "right": null,
       "top": null,
       "visibility": null,
       "width": null
      }
     },
     "3a7e8e4a3f804ee0bc81eb1bcf70d989": {
      "model_module": "@jupyter-widgets/base",
      "model_module_version": "1.2.0",
      "model_name": "LayoutModel",
      "state": {
       "_model_module": "@jupyter-widgets/base",
       "_model_module_version": "1.2.0",
       "_model_name": "LayoutModel",
       "_view_count": null,
       "_view_module": "@jupyter-widgets/base",
       "_view_module_version": "1.2.0",
       "_view_name": "LayoutView",
       "align_content": null,
       "align_items": null,
       "align_self": null,
       "border": null,
       "bottom": null,
       "display": null,
       "flex": null,
       "flex_flow": null,
       "grid_area": null,
       "grid_auto_columns": null,
       "grid_auto_flow": null,
       "grid_auto_rows": null,
       "grid_column": null,
       "grid_gap": null,
       "grid_row": null,
       "grid_template_areas": null,
       "grid_template_columns": null,
       "grid_template_rows": null,
       "height": null,
       "justify_content": null,
       "justify_items": null,
       "left": null,
       "margin": null,
       "max_height": null,
       "max_width": null,
       "min_height": null,
       "min_width": null,
       "object_fit": null,
       "object_position": null,
       "order": null,
       "overflow": null,
       "overflow_x": null,
       "overflow_y": null,
       "padding": null,
       "right": null,
       "top": null,
       "visibility": null,
       "width": null
      }
     },
     "3d002b5c9a86446fadce489bc4de5c62": {
      "model_module": "@jupyter-widgets/controls",
      "model_module_version": "1.5.0",
      "model_name": "ProgressStyleModel",
      "state": {
       "_model_module": "@jupyter-widgets/controls",
       "_model_module_version": "1.5.0",
       "_model_name": "ProgressStyleModel",
       "_view_count": null,
       "_view_module": "@jupyter-widgets/base",
       "_view_module_version": "1.2.0",
       "_view_name": "StyleView",
       "bar_color": null,
       "description_width": ""
      }
     },
     "474bdcbc98814849a7553ae48585bcbb": {
      "model_module": "@jupyter-widgets/controls",
      "model_module_version": "1.5.0",
      "model_name": "DescriptionStyleModel",
      "state": {
       "_model_module": "@jupyter-widgets/controls",
       "_model_module_version": "1.5.0",
       "_model_name": "DescriptionStyleModel",
       "_view_count": null,
       "_view_module": "@jupyter-widgets/base",
       "_view_module_version": "1.2.0",
       "_view_name": "StyleView",
       "description_width": ""
      }
     },
     "5841ff4225ff4508a39570aa5b7be3ce": {
      "model_module": "@jupyter-widgets/controls",
      "model_module_version": "1.5.0",
      "model_name": "DescriptionStyleModel",
      "state": {
       "_model_module": "@jupyter-widgets/controls",
       "_model_module_version": "1.5.0",
       "_model_name": "DescriptionStyleModel",
       "_view_count": null,
       "_view_module": "@jupyter-widgets/base",
       "_view_module_version": "1.2.0",
       "_view_name": "StyleView",
       "description_width": ""
      }
     },
     "5e2e900cb58741e6abb8a90ca1db23cf": {
      "model_module": "@jupyter-widgets/controls",
      "model_module_version": "1.5.0",
      "model_name": "HTMLModel",
      "state": {
       "_dom_classes": [],
       "_model_module": "@jupyter-widgets/controls",
       "_model_module_version": "1.5.0",
       "_model_name": "HTMLModel",
       "_view_count": null,
       "_view_module": "@jupyter-widgets/controls",
       "_view_module_version": "1.5.0",
       "_view_name": "HTMLView",
       "description": "",
       "description_tooltip": null,
       "layout": "IPY_MODEL_1d810f85d6824de7b6aba3bfcadbd1da",
       "placeholder": "​",
       "style": "IPY_MODEL_5841ff4225ff4508a39570aa5b7be3ce",
       "value": "config.json: 100%"
      }
     },
     "633135c4fe66423a99edf3f8b8c58b72": {
      "model_module": "@jupyter-widgets/controls",
      "model_module_version": "1.5.0",
      "model_name": "HBoxModel",
      "state": {
       "_dom_classes": [],
       "_model_module": "@jupyter-widgets/controls",
       "_model_module_version": "1.5.0",
       "_model_name": "HBoxModel",
       "_view_count": null,
       "_view_module": "@jupyter-widgets/controls",
       "_view_module_version": "1.5.0",
       "_view_name": "HBoxView",
       "box_style": "",
       "children": [
        "IPY_MODEL_99ea8512c2e945489d6f4c1f17d3fd19",
        "IPY_MODEL_8e4eed642fdb43d4803ebff915427cb1",
        "IPY_MODEL_d8845dadfc73427192fd106de2678f0d"
       ],
       "layout": "IPY_MODEL_af5be4e4cd9b48988e0719811fd84107"
      }
     },
     "66dddce2653f4512b54b6762db32d001": {
      "model_module": "@jupyter-widgets/controls",
      "model_module_version": "1.5.0",
      "model_name": "HTMLModel",
      "state": {
       "_dom_classes": [],
       "_model_module": "@jupyter-widgets/controls",
       "_model_module_version": "1.5.0",
       "_model_name": "HTMLModel",
       "_view_count": null,
       "_view_module": "@jupyter-widgets/controls",
       "_view_module_version": "1.5.0",
       "_view_name": "HTMLView",
       "description": "",
       "description_tooltip": null,
       "layout": "IPY_MODEL_144d4dff225a4b1bb4670a5c57b4a9b0",
       "placeholder": "​",
       "style": "IPY_MODEL_6cc21548f9e1437198d702b4993fd65a",
       "value": " 502/502 [00:00&lt;00:00, 36.6kB/s]"
      }
     },
     "6cc21548f9e1437198d702b4993fd65a": {
      "model_module": "@jupyter-widgets/controls",
      "model_module_version": "1.5.0",
      "model_name": "DescriptionStyleModel",
      "state": {
       "_model_module": "@jupyter-widgets/controls",
       "_model_module_version": "1.5.0",
       "_model_name": "DescriptionStyleModel",
       "_view_count": null,
       "_view_module": "@jupyter-widgets/base",
       "_view_module_version": "1.2.0",
       "_view_name": "StyleView",
       "description_width": ""
      }
     },
     "723d6a53309c4ddb8e8a3e1b59d58f35": {
      "model_module": "@jupyter-widgets/controls",
      "model_module_version": "1.5.0",
      "model_name": "DescriptionStyleModel",
      "state": {
       "_model_module": "@jupyter-widgets/controls",
       "_model_module_version": "1.5.0",
       "_model_name": "DescriptionStyleModel",
       "_view_count": null,
       "_view_module": "@jupyter-widgets/base",
       "_view_module_version": "1.2.0",
       "_view_name": "StyleView",
       "description_width": ""
      }
     },
     "76af64400c804e58b8732923a14112c9": {
      "model_module": "@jupyter-widgets/controls",
      "model_module_version": "1.5.0",
      "model_name": "ProgressStyleModel",
      "state": {
       "_model_module": "@jupyter-widgets/controls",
       "_model_module_version": "1.5.0",
       "_model_name": "ProgressStyleModel",
       "_view_count": null,
       "_view_module": "@jupyter-widgets/base",
       "_view_module_version": "1.2.0",
       "_view_name": "StyleView",
       "bar_color": null,
       "description_width": ""
      }
     },
     "7cac682f7f2b456998b5858eeb5274dd": {
      "model_module": "@jupyter-widgets/base",
      "model_module_version": "1.2.0",
      "model_name": "LayoutModel",
      "state": {
       "_model_module": "@jupyter-widgets/base",
       "_model_module_version": "1.2.0",
       "_model_name": "LayoutModel",
       "_view_count": null,
       "_view_module": "@jupyter-widgets/base",
       "_view_module_version": "1.2.0",
       "_view_name": "LayoutView",
       "align_content": null,
       "align_items": null,
       "align_self": null,
       "border": null,
       "bottom": null,
       "display": null,
       "flex": null,
       "flex_flow": null,
       "grid_area": null,
       "grid_auto_columns": null,
       "grid_auto_flow": null,
       "grid_auto_rows": null,
       "grid_column": null,
       "grid_gap": null,
       "grid_row": null,
       "grid_template_areas": null,
       "grid_template_columns": null,
       "grid_template_rows": null,
       "height": null,
       "justify_content": null,
       "justify_items": null,
       "left": null,
       "margin": null,
       "max_height": null,
       "max_width": null,
       "min_height": null,
       "min_width": null,
       "object_fit": null,
       "object_position": null,
       "order": null,
       "overflow": null,
       "overflow_x": null,
       "overflow_y": null,
       "padding": null,
       "right": null,
       "top": null,
       "visibility": null,
       "width": null
      }
     },
     "7f2c05c3433e451ea896e0f72ee2714d": {
      "model_module": "@jupyter-widgets/controls",
      "model_module_version": "1.5.0",
      "model_name": "HBoxModel",
      "state": {
       "_dom_classes": [],
       "_model_module": "@jupyter-widgets/controls",
       "_model_module_version": "1.5.0",
       "_model_name": "HBoxModel",
       "_view_count": null,
       "_view_module": "@jupyter-widgets/controls",
       "_view_module_version": "1.5.0",
       "_view_name": "HBoxView",
       "box_style": "",
       "children": [
        "IPY_MODEL_5e2e900cb58741e6abb8a90ca1db23cf",
        "IPY_MODEL_0a334b50da0542be8fbb1674a288e883",
        "IPY_MODEL_66dddce2653f4512b54b6762db32d001"
       ],
       "layout": "IPY_MODEL_7cac682f7f2b456998b5858eeb5274dd"
      }
     },
     "8159522c3a114154bd9c332d0511d365": {
      "model_module": "@jupyter-widgets/controls",
      "model_module_version": "1.5.0",
      "model_name": "HTMLModel",
      "state": {
       "_dom_classes": [],
       "_model_module": "@jupyter-widgets/controls",
       "_model_module_version": "1.5.0",
       "_model_name": "HTMLModel",
       "_view_count": null,
       "_view_module": "@jupyter-widgets/controls",
       "_view_module_version": "1.5.0",
       "_view_name": "HTMLView",
       "description": "",
       "description_tooltip": null,
       "layout": "IPY_MODEL_e83d051c7348400bbe20420eb282deb5",
       "placeholder": "​",
       "style": "IPY_MODEL_723d6a53309c4ddb8e8a3e1b59d58f35",
       "value": "pytorch_model.bin: 100%"
      }
     },
     "87b50b53ad104a3aa1a787e6d69c6703": {
      "model_module": "@jupyter-widgets/controls",
      "model_module_version": "1.5.0",
      "model_name": "FloatProgressModel",
      "state": {
       "_dom_classes": [],
       "_model_module": "@jupyter-widgets/controls",
       "_model_module_version": "1.5.0",
       "_model_name": "FloatProgressModel",
       "_view_count": null,
       "_view_module": "@jupyter-widgets/controls",
       "_view_module_version": "1.5.0",
       "_view_name": "ProgressView",
       "bar_style": "success",
       "description": "",
       "description_tooltip": null,
       "layout": "IPY_MODEL_e0a7b144649b4ca59dd6d5ac7f47ceb6",
       "max": 345636463.0,
       "min": 0.0,
       "orientation": "horizontal",
       "style": "IPY_MODEL_3d002b5c9a86446fadce489bc4de5c62",
       "value": 345636463.0
      }
     },
     "8e4eed642fdb43d4803ebff915427cb1": {
      "model_module": "@jupyter-widgets/controls",
      "model_module_version": "1.5.0",
      "model_name": "FloatProgressModel",
      "state": {
       "_dom_classes": [],
       "_model_module": "@jupyter-widgets/controls",
       "_model_module_version": "1.5.0",
       "_model_name": "FloatProgressModel",
       "_view_count": null,
       "_view_module": "@jupyter-widgets/controls",
       "_view_module_version": "1.5.0",
       "_view_name": "ProgressView",
       "bar_style": "success",
       "description": "",
       "description_tooltip": null,
       "layout": "IPY_MODEL_1ecbbde0ac8b48ca924736194a7f5279",
       "max": 160.0,
       "min": 0.0,
       "orientation": "horizontal",
       "style": "IPY_MODEL_76af64400c804e58b8732923a14112c9",
       "value": 160.0
      }
     },
     "99ea8512c2e945489d6f4c1f17d3fd19": {
      "model_module": "@jupyter-widgets/controls",
      "model_module_version": "1.5.0",
      "model_name": "HTMLModel",
      "state": {
       "_dom_classes": [],
       "_model_module": "@jupyter-widgets/controls",
       "_model_module_version": "1.5.0",
       "_model_name": "HTMLModel",
       "_view_count": null,
       "_view_module": "@jupyter-widgets/controls",
       "_view_module_version": "1.5.0",
       "_view_name": "HTMLView",
       "description": "",
       "description_tooltip": null,
       "layout": "IPY_MODEL_18a0652650fa48b3ade414737ce3dcb5",
       "placeholder": "​",
       "style": "IPY_MODEL_474bdcbc98814849a7553ae48585bcbb",
       "value": "preprocessor_config.json: 100%"
      }
     },
     "9bb8d355e97f416eade5c6a74e7943d0": {
      "model_module": "@jupyter-widgets/controls",
      "model_module_version": "1.5.0",
      "model_name": "HTMLModel",
      "state": {
       "_dom_classes": [],
       "_model_module": "@jupyter-widgets/controls",
       "_model_module_version": "1.5.0",
       "_model_name": "HTMLModel",
       "_view_count": null,
       "_view_module": "@jupyter-widgets/controls",
       "_view_module_version": "1.5.0",
       "_view_name": "HTMLView",
       "description": "",
       "description_tooltip": null,
       "layout": "IPY_MODEL_3a7e8e4a3f804ee0bc81eb1bcf70d989",
       "placeholder": "​",
       "style": "IPY_MODEL_b14ed3d0595e4840bc98f2f7e69318c2",
       "value": " 346M/346M [00:01&lt;00:00, 306MB/s]"
      }
     },
     "ab4219e560e84b4b8f7aa1133e1c55f4": {
      "model_module": "@jupyter-widgets/base",
      "model_module_version": "1.2.0",
      "model_name": "LayoutModel",
      "state": {
       "_model_module": "@jupyter-widgets/base",
       "_model_module_version": "1.2.0",
       "_model_name": "LayoutModel",
       "_view_count": null,
       "_view_module": "@jupyter-widgets/base",
       "_view_module_version": "1.2.0",
       "_view_name": "LayoutView",
       "align_content": null,
       "align_items": null,
       "align_self": null,
       "border": null,
       "bottom": null,
       "display": null,
       "flex": null,
       "flex_flow": null,
       "grid_area": null,
       "grid_auto_columns": null,
       "grid_auto_flow": null,
       "grid_auto_rows": null,
       "grid_column": null,
       "grid_gap": null,
       "grid_row": null,
       "grid_template_areas": null,
       "grid_template_columns": null,
       "grid_template_rows": null,
       "height": null,
       "justify_content": null,
       "justify_items": null,
       "left": null,
       "margin": null,
       "max_height": null,
       "max_width": null,
       "min_height": null,
       "min_width": null,
       "object_fit": null,
       "object_position": null,
       "order": null,
       "overflow": null,
       "overflow_x": null,
       "overflow_y": null,
       "padding": null,
       "right": null,
       "top": null,
       "visibility": null,
       "width": null
      }
     },
     "af5be4e4cd9b48988e0719811fd84107": {
      "model_module": "@jupyter-widgets/base",
      "model_module_version": "1.2.0",
      "model_name": "LayoutModel",
      "state": {
       "_model_module": "@jupyter-widgets/base",
       "_model_module_version": "1.2.0",
       "_model_name": "LayoutModel",
       "_view_count": null,
       "_view_module": "@jupyter-widgets/base",
       "_view_module_version": "1.2.0",
       "_view_name": "LayoutView",
       "align_content": null,
       "align_items": null,
       "align_self": null,
       "border": null,
       "bottom": null,
       "display": null,
       "flex": null,
       "flex_flow": null,
       "grid_area": null,
       "grid_auto_columns": null,
       "grid_auto_flow": null,
       "grid_auto_rows": null,
       "grid_column": null,
       "grid_gap": null,
       "grid_row": null,
       "grid_template_areas": null,
       "grid_template_columns": null,
       "grid_template_rows": null,
       "height": null,
       "justify_content": null,
       "justify_items": null,
       "left": null,
       "margin": null,
       "max_height": null,
       "max_width": null,
       "min_height": null,
       "min_width": null,
       "object_fit": null,
       "object_position": null,
       "order": null,
       "overflow": null,
       "overflow_x": null,
       "overflow_y": null,
       "padding": null,
       "right": null,
       "top": null,
       "visibility": null,
       "width": null
      }
     },
     "b1292103489d4e14b03f220cab28fb47": {
      "model_module": "@jupyter-widgets/controls",
      "model_module_version": "1.5.0",
      "model_name": "DescriptionStyleModel",
      "state": {
       "_model_module": "@jupyter-widgets/controls",
       "_model_module_version": "1.5.0",
       "_model_name": "DescriptionStyleModel",
       "_view_count": null,
       "_view_module": "@jupyter-widgets/base",
       "_view_module_version": "1.2.0",
       "_view_name": "StyleView",
       "description_width": ""
      }
     },
     "b14ed3d0595e4840bc98f2f7e69318c2": {
      "model_module": "@jupyter-widgets/controls",
      "model_module_version": "1.5.0",
      "model_name": "DescriptionStyleModel",
      "state": {
       "_model_module": "@jupyter-widgets/controls",
       "_model_module_version": "1.5.0",
       "_model_name": "DescriptionStyleModel",
       "_view_count": null,
       "_view_module": "@jupyter-widgets/base",
       "_view_module_version": "1.2.0",
       "_view_name": "StyleView",
       "description_width": ""
      }
     },
     "d0056eb8deac413d937f4849c981251f": {
      "model_module": "@jupyter-widgets/base",
      "model_module_version": "1.2.0",
      "model_name": "LayoutModel",
      "state": {
       "_model_module": "@jupyter-widgets/base",
       "_model_module_version": "1.2.0",
       "_model_name": "LayoutModel",
       "_view_count": null,
       "_view_module": "@jupyter-widgets/base",
       "_view_module_version": "1.2.0",
       "_view_name": "LayoutView",
       "align_content": null,
       "align_items": null,
       "align_self": null,
       "border": null,
       "bottom": null,
       "display": null,
       "flex": null,
       "flex_flow": null,
       "grid_area": null,
       "grid_auto_columns": null,
       "grid_auto_flow": null,
       "grid_auto_rows": null,
       "grid_column": null,
       "grid_gap": null,
       "grid_row": null,
       "grid_template_areas": null,
       "grid_template_columns": null,
       "grid_template_rows": null,
       "height": null,
       "justify_content": null,
       "justify_items": null,
       "left": null,
       "margin": null,
       "max_height": null,
       "max_width": null,
       "min_height": null,
       "min_width": null,
       "object_fit": null,
       "object_position": null,
       "order": null,
       "overflow": null,
       "overflow_x": null,
       "overflow_y": null,
       "padding": null,
       "right": null,
       "top": null,
       "visibility": null,
       "width": null
      }
     },
     "d8845dadfc73427192fd106de2678f0d": {
      "model_module": "@jupyter-widgets/controls",
      "model_module_version": "1.5.0",
      "model_name": "HTMLModel",
      "state": {
       "_dom_classes": [],
       "_model_module": "@jupyter-widgets/controls",
       "_model_module_version": "1.5.0",
       "_model_name": "HTMLModel",
       "_view_count": null,
       "_view_module": "@jupyter-widgets/controls",
       "_view_module_version": "1.5.0",
       "_view_name": "HTMLView",
       "description": "",
       "description_tooltip": null,
       "layout": "IPY_MODEL_ab4219e560e84b4b8f7aa1133e1c55f4",
       "placeholder": "​",
       "style": "IPY_MODEL_b1292103489d4e14b03f220cab28fb47",
       "value": " 160/160 [00:00&lt;00:00, 11.7kB/s]"
      }
     },
     "e0a7b144649b4ca59dd6d5ac7f47ceb6": {
      "model_module": "@jupyter-widgets/base",
      "model_module_version": "1.2.0",
      "model_name": "LayoutModel",
      "state": {
       "_model_module": "@jupyter-widgets/base",
       "_model_module_version": "1.2.0",
       "_model_name": "LayoutModel",
       "_view_count": null,
       "_view_module": "@jupyter-widgets/base",
       "_view_module_version": "1.2.0",
       "_view_name": "LayoutView",
       "align_content": null,
       "align_items": null,
       "align_self": null,
       "border": null,
       "bottom": null,
       "display": null,
       "flex": null,
       "flex_flow": null,
       "grid_area": null,
       "grid_auto_columns": null,
       "grid_auto_flow": null,
       "grid_auto_rows": null,
       "grid_column": null,
       "grid_gap": null,
       "grid_row": null,
       "grid_template_areas": null,
       "grid_template_columns": null,
       "grid_template_rows": null,
       "height": null,
       "justify_content": null,
       "justify_items": null,
       "left": null,
       "margin": null,
       "max_height": null,
       "max_width": null,
       "min_height": null,
       "min_width": null,
       "object_fit": null,
       "object_position": null,
       "order": null,
       "overflow": null,
       "overflow_x": null,
       "overflow_y": null,
       "padding": null,
       "right": null,
       "top": null,
       "visibility": null,
       "width": null
      }
     },
     "e3d8cb9d60d84633a936386947b72425": {
      "model_module": "@jupyter-widgets/controls",
      "model_module_version": "1.5.0",
      "model_name": "HBoxModel",
      "state": {
       "_dom_classes": [],
       "_model_module": "@jupyter-widgets/controls",
       "_model_module_version": "1.5.0",
       "_model_name": "HBoxModel",
       "_view_count": null,
       "_view_module": "@jupyter-widgets/controls",
       "_view_module_version": "1.5.0",
       "_view_name": "HBoxView",
       "box_style": "",
       "children": [
        "IPY_MODEL_8159522c3a114154bd9c332d0511d365",
        "IPY_MODEL_87b50b53ad104a3aa1a787e6d69c6703",
        "IPY_MODEL_9bb8d355e97f416eade5c6a74e7943d0"
       ],
       "layout": "IPY_MODEL_215c308ec4124eaab020ef96bb0da790"
      }
     },
     "e83d051c7348400bbe20420eb282deb5": {
      "model_module": "@jupyter-widgets/base",
      "model_module_version": "1.2.0",
      "model_name": "LayoutModel",
      "state": {
       "_model_module": "@jupyter-widgets/base",
       "_model_module_version": "1.2.0",
       "_model_name": "LayoutModel",
       "_view_count": null,
       "_view_module": "@jupyter-widgets/base",
       "_view_module_version": "1.2.0",
       "_view_name": "LayoutView",
       "align_content": null,
       "align_items": null,
       "align_self": null,
       "border": null,
       "bottom": null,
       "display": null,
       "flex": null,
       "flex_flow": null,
       "grid_area": null,
       "grid_auto_columns": null,
       "grid_auto_flow": null,
       "grid_auto_rows": null,
       "grid_column": null,
       "grid_gap": null,
       "grid_row": null,
       "grid_template_areas": null,
       "grid_template_columns": null,
       "grid_template_rows": null,
       "height": null,
       "justify_content": null,
       "justify_items": null,
       "left": null,
       "margin": null,
       "max_height": null,
       "max_width": null,
       "min_height": null,
       "min_width": null,
       "object_fit": null,
       "object_position": null,
       "order": null,
       "overflow": null,
       "overflow_x": null,
       "overflow_y": null,
       "padding": null,
       "right": null,
       "top": null,
       "visibility": null,
       "width": null
      }
     }
    },
    "version_major": 2,
    "version_minor": 0
   }
  }
 },
 "nbformat": 4,
 "nbformat_minor": 5
}
